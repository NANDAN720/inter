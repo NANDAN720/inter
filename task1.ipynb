{
 "cells": [
  {
   "cell_type": "code",
   "execution_count": 1,
   "id": "e3e6795c-5665-4510-9c16-a14032ede39c",
   "metadata": {},
   "outputs": [
    {
     "name": "stdout",
     "output_type": "stream",
     "text": [
      "Requirement already satisfied: pandas in c:\\users\\lenovo\\anaconda3\\lib\\site-packages (2.2.3)\n",
      "Requirement already satisfied: numpy>=1.26.0 in c:\\users\\lenovo\\anaconda3\\lib\\site-packages (from pandas) (2.1.3)\n",
      "Requirement already satisfied: python-dateutil>=2.8.2 in c:\\users\\lenovo\\anaconda3\\lib\\site-packages (from pandas) (2.9.0.post0)\n",
      "Requirement already satisfied: pytz>=2020.1 in c:\\users\\lenovo\\anaconda3\\lib\\site-packages (from pandas) (2024.1)\n",
      "Requirement already satisfied: tzdata>=2022.7 in c:\\users\\lenovo\\anaconda3\\lib\\site-packages (from pandas) (2025.2)\n",
      "Requirement already satisfied: six>=1.5 in c:\\users\\lenovo\\anaconda3\\lib\\site-packages (from python-dateutil>=2.8.2->pandas) (1.17.0)\n"
     ]
    }
   ],
   "source": [
    "!pip install pandas"
   ]
  },
  {
   "cell_type": "code",
   "execution_count": 2,
   "id": "98730fbc-449a-4c4f-8939-2f4df820c320",
   "metadata": {},
   "outputs": [],
   "source": [
    "import pandas as pd\n",
    "import numpy as np\n",
    "import matplotlib.pyplot as plt \n",
    "import seaborn as sns"
   ]
  },
  {
   "cell_type": "code",
   "execution_count": 3,
   "id": "4ca63fd2-d91c-4a2a-bd10-90fa7c4faa7e",
   "metadata": {},
   "outputs": [],
   "source": [
    "df = pd.read_csv(\"student-mat.csv\")"
   ]
  },
  {
   "cell_type": "code",
   "execution_count": 4,
   "id": "822afa39-fb86-4fea-9c92-b9c9bf7dab8e",
   "metadata": {},
   "outputs": [
    {
     "data": {
      "text/html": [
       "<div>\n",
       "<style scoped>\n",
       "    .dataframe tbody tr th:only-of-type {\n",
       "        vertical-align: middle;\n",
       "    }\n",
       "\n",
       "    .dataframe tbody tr th {\n",
       "        vertical-align: top;\n",
       "    }\n",
       "\n",
       "    .dataframe thead th {\n",
       "        text-align: right;\n",
       "    }\n",
       "</style>\n",
       "<table border=\"1\" class=\"dataframe\">\n",
       "  <thead>\n",
       "    <tr style=\"text-align: right;\">\n",
       "      <th></th>\n",
       "      <th>school;sex;age;address;famsize;Pstatus;Medu;Fedu;Mjob;Fjob;reason;guardian;traveltime;studytime;failures;schoolsup;famsup;paid;activities;nursery;higher;internet;romantic;famrel;freetime;goout;Dalc;Walc;health;absences;G1;G2;G3</th>\n",
       "    </tr>\n",
       "  </thead>\n",
       "  <tbody>\n",
       "    <tr>\n",
       "      <th>count</th>\n",
       "      <td>395</td>\n",
       "    </tr>\n",
       "    <tr>\n",
       "      <th>unique</th>\n",
       "      <td>395</td>\n",
       "    </tr>\n",
       "    <tr>\n",
       "      <th>top</th>\n",
       "      <td>GP;\"F\";18;\"U\";\"GT3\";\"A\";4;4;\"at_home\";\"teacher...</td>\n",
       "    </tr>\n",
       "    <tr>\n",
       "      <th>freq</th>\n",
       "      <td>1</td>\n",
       "    </tr>\n",
       "  </tbody>\n",
       "</table>\n",
       "</div>"
      ],
      "text/plain": [
       "       school;sex;age;address;famsize;Pstatus;Medu;Fedu;Mjob;Fjob;reason;guardian;traveltime;studytime;failures;schoolsup;famsup;paid;activities;nursery;higher;internet;romantic;famrel;freetime;goout;Dalc;Walc;health;absences;G1;G2;G3\n",
       "count                                                 395                                                                                                                                                                                 \n",
       "unique                                                395                                                                                                                                                                                 \n",
       "top     GP;\"F\";18;\"U\";\"GT3\";\"A\";4;4;\"at_home\";\"teacher...                                                                                                                                                                                 \n",
       "freq                                                    1                                                                                                                                                                                 "
      ]
     },
     "execution_count": 4,
     "metadata": {},
     "output_type": "execute_result"
    }
   ],
   "source": [
    "df.describe()"
   ]
  },
  {
   "cell_type": "code",
   "execution_count": 5,
   "id": "9caec750-7c7e-4807-8575-7631d0fd34c3",
   "metadata": {},
   "outputs": [
    {
     "name": "stdout",
     "output_type": "stream",
     "text": [
      "<class 'pandas.core.frame.DataFrame'>\n",
      "RangeIndex: 395 entries, 0 to 394\n",
      "Data columns (total 1 columns):\n",
      " #   Column                                                                                                                                                                                                                               Non-Null Count  Dtype \n",
      "---  ------                                                                                                                                                                                                                               --------------  ----- \n",
      " 0   school;sex;age;address;famsize;Pstatus;Medu;Fedu;Mjob;Fjob;reason;guardian;traveltime;studytime;failures;schoolsup;famsup;paid;activities;nursery;higher;internet;romantic;famrel;freetime;goout;Dalc;Walc;health;absences;G1;G2;G3  395 non-null    object\n",
      "dtypes: object(1)\n",
      "memory usage: 3.2+ KB\n"
     ]
    }
   ],
   "source": [
    "df.info()\n"
   ]
  },
  {
   "cell_type": "code",
   "execution_count": 6,
   "id": "562c7d0a-9b05-4b11-8924-7b1345a3b804",
   "metadata": {},
   "outputs": [
    {
     "data": {
      "text/html": [
       "<div>\n",
       "<style scoped>\n",
       "    .dataframe tbody tr th:only-of-type {\n",
       "        vertical-align: middle;\n",
       "    }\n",
       "\n",
       "    .dataframe tbody tr th {\n",
       "        vertical-align: top;\n",
       "    }\n",
       "\n",
       "    .dataframe thead th {\n",
       "        text-align: right;\n",
       "    }\n",
       "</style>\n",
       "<table border=\"1\" class=\"dataframe\">\n",
       "  <thead>\n",
       "    <tr style=\"text-align: right;\">\n",
       "      <th></th>\n",
       "      <th>school;sex;age;address;famsize;Pstatus;Medu;Fedu;Mjob;Fjob;reason;guardian;traveltime;studytime;failures;schoolsup;famsup;paid;activities;nursery;higher;internet;romantic;famrel;freetime;goout;Dalc;Walc;health;absences;G1;G2;G3</th>\n",
       "    </tr>\n",
       "  </thead>\n",
       "  <tbody>\n",
       "    <tr>\n",
       "      <th>0</th>\n",
       "      <td>GP;\"F\";18;\"U\";\"GT3\";\"A\";4;4;\"at_home\";\"teacher...</td>\n",
       "    </tr>\n",
       "    <tr>\n",
       "      <th>1</th>\n",
       "      <td>GP;\"F\";17;\"U\";\"GT3\";\"T\";1;1;\"at_home\";\"other\";...</td>\n",
       "    </tr>\n",
       "    <tr>\n",
       "      <th>2</th>\n",
       "      <td>GP;\"F\";15;\"U\";\"LE3\";\"T\";1;1;\"at_home\";\"other\";...</td>\n",
       "    </tr>\n",
       "    <tr>\n",
       "      <th>3</th>\n",
       "      <td>GP;\"F\";15;\"U\";\"GT3\";\"T\";4;2;\"health\";\"services...</td>\n",
       "    </tr>\n",
       "    <tr>\n",
       "      <th>4</th>\n",
       "      <td>GP;\"F\";16;\"U\";\"GT3\";\"T\";3;3;\"other\";\"other\";\"h...</td>\n",
       "    </tr>\n",
       "  </tbody>\n",
       "</table>\n",
       "</div>"
      ],
      "text/plain": [
       "  school;sex;age;address;famsize;Pstatus;Medu;Fedu;Mjob;Fjob;reason;guardian;traveltime;studytime;failures;schoolsup;famsup;paid;activities;nursery;higher;internet;romantic;famrel;freetime;goout;Dalc;Walc;health;absences;G1;G2;G3\n",
       "0  GP;\"F\";18;\"U\";\"GT3\";\"A\";4;4;\"at_home\";\"teacher...                                                                                                                                                                                 \n",
       "1  GP;\"F\";17;\"U\";\"GT3\";\"T\";1;1;\"at_home\";\"other\";...                                                                                                                                                                                 \n",
       "2  GP;\"F\";15;\"U\";\"LE3\";\"T\";1;1;\"at_home\";\"other\";...                                                                                                                                                                                 \n",
       "3  GP;\"F\";15;\"U\";\"GT3\";\"T\";4;2;\"health\";\"services...                                                                                                                                                                                 \n",
       "4  GP;\"F\";16;\"U\";\"GT3\";\"T\";3;3;\"other\";\"other\";\"h...                                                                                                                                                                                 "
      ]
     },
     "execution_count": 6,
     "metadata": {},
     "output_type": "execute_result"
    }
   ],
   "source": [
    "df.head()"
   ]
  },
  {
   "cell_type": "code",
   "execution_count": 8,
   "id": "4c591cf1-1360-4d0c-ae4b-150abbaf696d",
   "metadata": {},
   "outputs": [
    {
     "data": {
      "text/plain": [
       "school;sex;age;address;famsize;Pstatus;Medu;Fedu;Mjob;Fjob;reason;guardian;traveltime;studytime;failures;schoolsup;famsup;paid;activities;nursery;higher;internet;romantic;famrel;freetime;goout;Dalc;Walc;health;absences;G1;G2;G3    0\n",
       "dtype: int64"
      ]
     },
     "execution_count": 8,
     "metadata": {},
     "output_type": "execute_result"
    }
   ],
   "source": [
    "df.isnull().sum()"
   ]
  },
  {
   "cell_type": "code",
   "execution_count": 9,
   "id": "b16231b7-18fe-443b-8ef6-68097ecf7a30",
   "metadata": {},
   "outputs": [
    {
     "data": {
      "text/plain": [
       "school;sex;age;address;famsize;Pstatus;Medu;Fedu;Mjob;Fjob;reason;guardian;traveltime;studytime;failures;schoolsup;famsup;paid;activities;nursery;higher;internet;romantic;famrel;freetime;goout;Dalc;Walc;health;absences;G1;G2;G3    object\n",
       "dtype: object"
      ]
     },
     "execution_count": 9,
     "metadata": {},
     "output_type": "execute_result"
    }
   ],
   "source": [
    "df.dtypes"
   ]
  },
  {
   "cell_type": "code",
   "execution_count": 10,
   "id": "90778ed4-42c3-4ec1-83de-2aefb0476f54",
   "metadata": {},
   "outputs": [
    {
     "data": {
      "text/plain": [
       "(395, 1)"
      ]
     },
     "execution_count": 10,
     "metadata": {},
     "output_type": "execute_result"
    }
   ],
   "source": [
    "df.shape"
   ]
  },
  {
   "cell_type": "code",
   "execution_count": 11,
   "id": "7470c8d9-0c7a-4c7b-9eb7-e8cd4dcd9225",
   "metadata": {},
   "outputs": [
    {
     "data": {
      "text/html": [
       "<div>\n",
       "<style scoped>\n",
       "    .dataframe tbody tr th:only-of-type {\n",
       "        vertical-align: middle;\n",
       "    }\n",
       "\n",
       "    .dataframe tbody tr th {\n",
       "        vertical-align: top;\n",
       "    }\n",
       "\n",
       "    .dataframe thead th {\n",
       "        text-align: right;\n",
       "    }\n",
       "</style>\n",
       "<table border=\"1\" class=\"dataframe\">\n",
       "  <thead>\n",
       "    <tr style=\"text-align: right;\">\n",
       "      <th></th>\n",
       "      <th>school;sex;age;address;famsize;Pstatus;Medu;Fedu;Mjob;Fjob;reason;guardian;traveltime;studytime;failures;schoolsup;famsup;paid;activities;nursery;higher;internet;romantic;famrel;freetime;goout;Dalc;Walc;health;absences;G1;G2;G3</th>\n",
       "    </tr>\n",
       "  </thead>\n",
       "  <tbody>\n",
       "    <tr>\n",
       "      <th>0</th>\n",
       "      <td>GP;\"F\";18;\"U\";\"GT3\";\"A\";4;4;\"at_home\";\"teacher...</td>\n",
       "    </tr>\n",
       "    <tr>\n",
       "      <th>1</th>\n",
       "      <td>GP;\"F\";17;\"U\";\"GT3\";\"T\";1;1;\"at_home\";\"other\";...</td>\n",
       "    </tr>\n",
       "    <tr>\n",
       "      <th>2</th>\n",
       "      <td>GP;\"F\";15;\"U\";\"LE3\";\"T\";1;1;\"at_home\";\"other\";...</td>\n",
       "    </tr>\n",
       "    <tr>\n",
       "      <th>3</th>\n",
       "      <td>GP;\"F\";15;\"U\";\"GT3\";\"T\";4;2;\"health\";\"services...</td>\n",
       "    </tr>\n",
       "    <tr>\n",
       "      <th>4</th>\n",
       "      <td>GP;\"F\";16;\"U\";\"GT3\";\"T\";3;3;\"other\";\"other\";\"h...</td>\n",
       "    </tr>\n",
       "    <tr>\n",
       "      <th>...</th>\n",
       "      <td>...</td>\n",
       "    </tr>\n",
       "    <tr>\n",
       "      <th>390</th>\n",
       "      <td>MS;\"M\";20;\"U\";\"LE3\";\"A\";2;2;\"services\";\"servic...</td>\n",
       "    </tr>\n",
       "    <tr>\n",
       "      <th>391</th>\n",
       "      <td>MS;\"M\";17;\"U\";\"LE3\";\"T\";3;1;\"services\";\"servic...</td>\n",
       "    </tr>\n",
       "    <tr>\n",
       "      <th>392</th>\n",
       "      <td>MS;\"M\";21;\"R\";\"GT3\";\"T\";1;1;\"other\";\"other\";\"c...</td>\n",
       "    </tr>\n",
       "    <tr>\n",
       "      <th>393</th>\n",
       "      <td>MS;\"M\";18;\"R\";\"LE3\";\"T\";3;2;\"services\";\"other\"...</td>\n",
       "    </tr>\n",
       "    <tr>\n",
       "      <th>394</th>\n",
       "      <td>MS;\"M\";19;\"U\";\"LE3\";\"T\";1;1;\"other\";\"at_home\";...</td>\n",
       "    </tr>\n",
       "  </tbody>\n",
       "</table>\n",
       "<p>395 rows × 1 columns</p>\n",
       "</div>"
      ],
      "text/plain": [
       "    school;sex;age;address;famsize;Pstatus;Medu;Fedu;Mjob;Fjob;reason;guardian;traveltime;studytime;failures;schoolsup;famsup;paid;activities;nursery;higher;internet;romantic;famrel;freetime;goout;Dalc;Walc;health;absences;G1;G2;G3\n",
       "0    GP;\"F\";18;\"U\";\"GT3\";\"A\";4;4;\"at_home\";\"teacher...                                                                                                                                                                                 \n",
       "1    GP;\"F\";17;\"U\";\"GT3\";\"T\";1;1;\"at_home\";\"other\";...                                                                                                                                                                                 \n",
       "2    GP;\"F\";15;\"U\";\"LE3\";\"T\";1;1;\"at_home\";\"other\";...                                                                                                                                                                                 \n",
       "3    GP;\"F\";15;\"U\";\"GT3\";\"T\";4;2;\"health\";\"services...                                                                                                                                                                                 \n",
       "4    GP;\"F\";16;\"U\";\"GT3\";\"T\";3;3;\"other\";\"other\";\"h...                                                                                                                                                                                 \n",
       "..                                                 ...                                                                                                                                                                                 \n",
       "390  MS;\"M\";20;\"U\";\"LE3\";\"A\";2;2;\"services\";\"servic...                                                                                                                                                                                 \n",
       "391  MS;\"M\";17;\"U\";\"LE3\";\"T\";3;1;\"services\";\"servic...                                                                                                                                                                                 \n",
       "392  MS;\"M\";21;\"R\";\"GT3\";\"T\";1;1;\"other\";\"other\";\"c...                                                                                                                                                                                 \n",
       "393  MS;\"M\";18;\"R\";\"LE3\";\"T\";3;2;\"services\";\"other\"...                                                                                                                                                                                 \n",
       "394  MS;\"M\";19;\"U\";\"LE3\";\"T\";1;1;\"other\";\"at_home\";...                                                                                                                                                                                 \n",
       "\n",
       "[395 rows x 1 columns]"
      ]
     },
     "execution_count": 11,
     "metadata": {},
     "output_type": "execute_result"
    }
   ],
   "source": [
    "df.drop_duplicates()"
   ]
  },
  {
   "cell_type": "code",
   "execution_count": 21,
   "id": "73e4fa0b-8915-44cf-a53f-ce15b47a1c3f",
   "metadata": {},
   "outputs": [
    {
     "name": "stdout",
     "output_type": "stream",
     "text": [
      "  school;sex;age;address;famsize;Pstatus;Medu;Fedu;Mjob;Fjob;reason;guardian;traveltime;studytime;failures;schoolsup;famsup;paid;activities;nursery;higher;internet;romantic;famrel;freetime;goout;Dalc;Walc;health;absences;G1;G2;G3\n",
      "0  GP;\"F\";18;\"U\";\"GT3\";\"A\";4;4;\"at_home\";\"teacher...                                                                                                                                                                                 \n",
      "1  GP;\"F\";17;\"U\";\"GT3\";\"T\";1;1;\"at_home\";\"other\";...                                                                                                                                                                                 \n",
      "2  GP;\"F\";15;\"U\";\"LE3\";\"T\";1;1;\"at_home\";\"other\";...                                                                                                                                                                                 \n",
      "3  GP;\"F\";15;\"U\";\"GT3\";\"T\";4;2;\"health\";\"services...                                                                                                                                                                                 \n",
      "4  GP;\"F\";16;\"U\";\"GT3\";\"T\";3;3;\"other\";\"other\";\"h...                                                                                                                                                                                 \n"
     ]
    }
   ],
   "source": [
    "print(df.head())"
   ]
  },
  {
   "cell_type": "code",
   "execution_count": 25,
   "id": "a847b9d4-2058-4b3d-af45-9cd24d557731",
   "metadata": {},
   "outputs": [
    {
     "data": {
      "text/plain": [
       "Index(['school;sex;age;address;famsize;Pstatus;Medu;Fedu;Mjob;Fjob;reason;guardian;traveltime;studytime;failures;schoolsup;famsup;paid;activities;nursery;higher;internet;romantic;famrel;freetime;goout;Dalc;Walc;health;absences;G1;G2;G3'], dtype='object')"
      ]
     },
     "execution_count": 25,
     "metadata": {},
     "output_type": "execute_result"
    }
   ],
   "source": [
    "df.columns"
   ]
  },
  {
   "cell_type": "code",
   "execution_count": 26,
   "id": "f57cc295-2cb7-432a-8a42-d81eac416807",
   "metadata": {},
   "outputs": [
    {
     "name": "stdout",
     "output_type": "stream",
     "text": [
      "Index(['school;sex;age;address;famsize;pstatus;medu;fedu;mjob;fjob;reason;guardian;traveltime;studytime;failures;schoolsup;famsup;paid;activities;nursery;higher;internet;romantic;famrel;freetime;goout;dalc;walc;health;absences;g1;g2;g3'], dtype='object')\n"
     ]
    }
   ],
   "source": [
    "df.columns = df.columns.str.lower().str.strip()\n",
    "print(df.columns)"
   ]
  },
  {
   "cell_type": "code",
   "execution_count": 28,
   "id": "220c55e5-2619-42f0-a457-44ec58042c1b",
   "metadata": {},
   "outputs": [
    {
     "name": "stdout",
     "output_type": "stream",
     "text": [
      "['school;sex;age;address;famsize;pstatus;medu;fedu;mjob;fjob;reason;guardian;traveltime;studytime;failures;schoolsup;famsup;paid;activities;nursery;higher;internet;romantic;famrel;freetime;goout;dalc;walc;health;absences;g1;g2;g3']\n"
     ]
    }
   ],
   "source": [
    "print(df.columns.tolist())"
   ]
  },
  {
   "cell_type": "code",
   "execution_count": 29,
   "id": "6943e28d-d393-4931-9279-217b8b88fc0f",
   "metadata": {},
   "outputs": [],
   "source": [
    "df = pd.read_csv('student-mat.csv', sep=';')"
   ]
  },
  {
   "cell_type": "code",
   "execution_count": 30,
   "id": "adce3fb0-4d10-47c8-952f-8ef0f63d5260",
   "metadata": {},
   "outputs": [
    {
     "name": "stdout",
     "output_type": "stream",
     "text": [
      "Average G3 Score: 10.415189873417722\n"
     ]
    }
   ],
   "source": [
    "average_g3 = df['G3'].mean()\n",
    "print(\"Average G3 Score:\", average_g3)"
   ]
  },
  {
   "cell_type": "code",
   "execution_count": 32,
   "id": "ecd0de74-4a41-4e82-8206-169a5f6186f9",
   "metadata": {},
   "outputs": [
    {
     "name": "stdout",
     "output_type": "stream",
     "text": [
      "    school sex  age address famsize Pstatus  Medu  Fedu      Mjob      Fjob  \\\n",
      "8       GP   M   15       U     LE3       A     3     2  services     other   \n",
      "14      GP   M   15       U     GT3       A     2     2     other     other   \n",
      "22      GP   M   16       U     LE3       T     4     2   teacher     other   \n",
      "31      GP   M   15       U     GT3       T     4     4  services  services   \n",
      "32      GP   M   15       R     GT3       T     4     3   teacher   at_home   \n",
      "36      GP   M   15       U     LE3       T     4     3   teacher  services   \n",
      "42      GP   M   15       U     GT3       T     4     4  services   teacher   \n",
      "47      GP   M   16       U     GT3       T     4     3    health  services   \n",
      "59      GP   F   16       U     GT3       T     4     2  services     other   \n",
      "69      GP   F   15       R     LE3       T     3     1     other     other   \n",
      "91      GP   F   15       U     GT3       T     4     3  services     other   \n",
      "101     GP   M   16       U     GT3       T     4     4  services   teacher   \n",
      "104     GP   M   15       U     GT3       A     3     4  services     other   \n",
      "107     GP   M   16       U     GT3       T     3     3  services     other   \n",
      "109     GP   F   16       U     LE3       T     4     4    health    health   \n",
      "110     GP   M   15       U     LE3       A     4     4   teacher   teacher   \n",
      "113     GP   M   15       U     LE3       T     4     2   teacher     other   \n",
      "115     GP   M   16       U     GT3       T     4     4   teacher   teacher   \n",
      "129     GP   M   16       R     GT3       T     4     4   teacher   teacher   \n",
      "167     GP   F   16       U     GT3       T     4     2    health  services   \n",
      "171     GP   M   16       U     GT3       T     1     0     other     other   \n",
      "182     GP   F   17       U     GT3       T     2     4  services  services   \n",
      "196     GP   M   17       U     GT3       T     4     4  services   teacher   \n",
      "198     GP   F   17       U     GT3       T     4     4  services   teacher   \n",
      "200     GP   F   16       U     GT3       T     4     3    health     other   \n",
      "222     GP   F   16       U     GT3       T     2     3  services   teacher   \n",
      "245     GP   M   16       U     GT3       T     2     1     other     other   \n",
      "260     GP   F   18       U     GT3       T     4     3  services     other   \n",
      "265     GP   M   18       R     LE3       A     3     4     other     other   \n",
      "286     GP   F   18       U     GT3       T     2     2   at_home   at_home   \n",
      "293     GP   F   17       R     LE3       T     3     1  services     other   \n",
      "299     GP   M   18       U     LE3       T     4     4   teacher   teacher   \n",
      "303     GP   F   17       U     GT3       T     3     2    health    health   \n",
      "306     GP   M   20       U     GT3       A     3     2  services     other   \n",
      "326     GP   M   17       U     GT3       T     3     3     other  services   \n",
      "338     GP   F   18       U     LE3       T     3     3  services  services   \n",
      "346     GP   M   18       R     GT3       T     4     3   teacher  services   \n",
      "359     MS   F   18       U     LE3       T     1     1   at_home  services   \n",
      "374     MS   F   18       R     LE3       T     4     4     other     other   \n",
      "391     MS   M   17       U     LE3       T     3     1  services  services   \n",
      "\n",
      "     ... famrel freetime  goout  Dalc  Walc health absences  G1  G2  G3  \n",
      "8    ...      4        2      2     1     1      1        0  16  18  19  \n",
      "14   ...      4        5      2     1     1      3        0  14  16  16  \n",
      "22   ...      4        5      1     1     3      5        2  15  15  16  \n",
      "31   ...      4        3      1     1     1      5        0  17  16  17  \n",
      "32   ...      4        5      2     1     1      5        0  17  16  16  \n",
      "36   ...      5        4      3     1     1      4        2  15  16  18  \n",
      "42   ...      4        3      3     1     1      5        2  19  18  18  \n",
      "47   ...      4        2      2     1     1      2        4  19  19  20  \n",
      "59   ...      4        2      3     1     1      5        2  15  16  16  \n",
      "69   ...      4        4      2     2     3      3       12  16  16  16  \n",
      "91   ...      4        5      5     1     3      1        4  16  17  18  \n",
      "101  ...      4        4      3     1     1      4        0  16  17  17  \n",
      "104  ...      5        4      4     1     1      1        0  16  18  18  \n",
      "107  ...      5        3      3     1     1      5        2  16  18  18  \n",
      "109  ...      5        4      5     1     1      4        4  14  15  16  \n",
      "110  ...      5        5      3     1     1      4        6  18  19  19  \n",
      "113  ...      3        5      2     1     1      3       10  18  19  19  \n",
      "115  ...      5        4      4     1     2      5        2  15  15  16  \n",
      "129  ...      3        5      5     2     5      4        8  18  18  18  \n",
      "167  ...      4        2      3     1     1      3        0  14  15  16  \n",
      "171  ...      4        3      2     1     1      3        2  13  15  16  \n",
      "182  ...      5        4      2     2     3      5        0  16  17  17  \n",
      "196  ...      5        2      3     1     2      5        4  17  15  16  \n",
      "198  ...      4        2      4     2     3      2       24  18  18  18  \n",
      "200  ...      4        3      5     1     5      2        2  16  16  16  \n",
      "222  ...      2        3      1     1     1      3        2  16  16  17  \n",
      "245  ...      4        3      3     1     1      4        6  18  18  18  \n",
      "260  ...      3        1      2     1     3      2       21  17  18  18  \n",
      "265  ...      4        2      5     3     4      1       13  17  17  17  \n",
      "286  ...      4        3      3     1     2      2        5  18  18  19  \n",
      "293  ...      3        1      2     1     1      3        6  18  18  18  \n",
      "299  ...      1        4      2     2     2      1        5  16  15  16  \n",
      "303  ...      5        2      2     1     2      5        0  17  17  18  \n",
      "306  ...      5        5      3     1     1      5        0  17  18  18  \n",
      "326  ...      4        3      5     3     5      5        3  14  15  16  \n",
      "338  ...      5        3      3     1     1      1        7  16  15  17  \n",
      "346  ...      5        3      2     1     2      4        9  16  15  16  \n",
      "359  ...      5        3      2     1     1      4        0  18  16  16  \n",
      "374  ...      5        4      4     1     1      1        0  19  18  19  \n",
      "391  ...      2        4      5     3     4      2        3  14  16  16  \n",
      "\n",
      "[40 rows x 33 columns]\n"
     ]
    }
   ],
   "source": [
    "high_scores = df[df['G3']>15]\n",
    "print(high_scores)"
   ]
  },
  {
   "cell_type": "code",
   "execution_count": 33,
   "id": "a8ed8d34-4ff9-4a24-992f-72ebc88252a8",
   "metadata": {},
   "outputs": [
    {
     "data": {
      "text/plain": [
       "(array([[40.,  0.,  0.,  0.,  0.,  0.,  0.,  0.,  0.,  0.],\n",
       "        [24., 16.,  0.,  0.,  0.,  0.,  0.,  0.,  0.,  0.],\n",
       "        [ 0.,  0.,  0.,  0.,  0.,  0., 24., 15.,  1.,  0.],\n",
       "        [ 0., 33.,  7.,  0.,  0.,  0.,  0.,  0.,  0.,  0.],\n",
       "        [ 0.,  0., 40.,  0.,  0.,  0.,  0.,  0.,  0.,  0.],\n",
       "        [ 0.,  0.,  0., 40.,  0.,  0.,  0.,  0.,  0.,  0.],\n",
       "        [ 7., 33.,  0.,  0.,  0.,  0.,  0.,  0.,  0.,  0.],\n",
       "        [15., 25.,  0.,  0.,  0.,  0.,  0.,  0.,  0.,  0.],\n",
       "        [ 0.,  0.,  0.,  0., 24., 16.,  0.,  0.,  0.,  0.],\n",
       "        [ 0.,  0.,  0.,  0., 27., 13.,  0.,  0.,  0.,  0.],\n",
       "        [ 0.,  0.,  0.,  0.,  4.,  0., 25., 11.,  0.,  0.],\n",
       "        [ 0.,  0.,  0.,  0.,  2.,  0.,  0., 38.,  0.,  0.],\n",
       "        [39.,  1.,  0.,  0.,  0.,  0.,  0.,  0.,  0.,  0.],\n",
       "        [26., 14.,  0.,  0.,  0.,  0.,  0.,  0.,  0.,  0.],\n",
       "        [40.,  0.,  0.,  0.,  0.,  0.,  0.,  0.,  0.,  0.],\n",
       "        [ 0.,  0.,  0.,  0.,  0.,  0.,  0.,  0., 40.,  0.],\n",
       "        [ 0.,  0.,  0.,  0.,  0.,  0.,  0.,  0., 40.,  0.],\n",
       "        [ 0.,  0.,  0.,  0.,  0.,  0.,  0.,  0., 40.,  0.],\n",
       "        [ 0.,  0.,  0.,  0.,  0.,  0.,  0.,  0., 40.,  0.],\n",
       "        [ 0.,  0.,  0.,  0.,  0.,  0.,  0.,  0., 40.,  0.],\n",
       "        [ 0.,  0.,  0.,  0.,  0.,  0.,  0.,  0., 40.,  0.],\n",
       "        [ 0.,  0.,  0.,  0.,  0.,  0.,  0.,  0., 40.,  0.],\n",
       "        [ 0.,  0.,  0.,  0.,  0.,  0.,  0.,  0., 40.,  0.],\n",
       "        [ 3., 23., 14.,  0.,  0.,  0.,  0.,  0.,  0.,  0.],\n",
       "        [10., 22.,  8.,  0.,  0.,  0.,  0.,  0.,  0.,  0.],\n",
       "        [17., 16.,  7.,  0.,  0.,  0.,  0.,  0.,  0.,  0.],\n",
       "        [37.,  3.,  0.,  0.,  0.,  0.,  0.,  0.,  0.,  0.],\n",
       "        [29.,  8.,  3.,  0.,  0.,  0.,  0.,  0.,  0.,  0.],\n",
       "        [13., 15., 12.,  0.,  0.,  0.,  0.,  0.,  0.,  0.],\n",
       "        [21.,  6.,  6.,  2.,  1.,  2.,  0.,  0.,  1.,  1.],\n",
       "        [ 0.,  0.,  0.,  0.,  0.,  6., 16., 18.,  0.,  0.],\n",
       "        [ 0.,  0.,  0.,  0.,  0.,  0., 20., 20.,  0.,  0.],\n",
       "        [ 0.,  0.,  0.,  0.,  0.,  0., 16., 23.,  1.,  0.]]),\n",
       " array([ 0. ,  2.4,  4.8,  7.2,  9.6, 12. , 14.4, 16.8, 19.2, 21.6, 24. ]),\n",
       " <a list of 33 BarContainer objects>)"
      ]
     },
     "execution_count": 33,
     "metadata": {},
     "output_type": "execute_result"
    },
    {
     "data": {
      "image/png": "[encoded data removed]",
      "text/plain": [
       "<Figure size 640x480 with 1 Axes>"
      ]
     },
     "metadata": {},
     "output_type": "display_data"
    }
   ],
   "source": [
    "plt.hist(high_scores)"
   ]
  },
  {
   "cell_type": "code",
   "execution_count": 34,
   "id": "d3ca1411-a05c-428e-b622-cc4cdb3ad2d8",
   "metadata": {},
   "outputs": [
    {
     "name": "stdout",
     "output_type": "stream",
     "text": [
      "Correlation between study time and G3: 0.09781968965319625\n"
     ]
    }
   ],
   "source": [
    "correlation = df['studytime'].corr(df['G3'])\n",
    "print(\"Correlation between study time and G3:\", correlation)"
   ]
  },
  {
   "cell_type": "code",
   "execution_count": 39,
   "id": "82dfb614-78ff-4d76-a353-f1a00895f9e5",
   "metadata": {},
   "outputs": [
    {
     "name": "stdout",
     "output_type": "stream",
     "text": [
      "Average G3 by gender:\n",
      "sex\n",
      "F     9.966346\n",
      "M    10.914439\n",
      "Name: G3, dtype: float64\n"
     ]
    }
   ],
   "source": [
    "avg_grades_by_gender = df.groupby('sex')['G3'].mean()\n",
    "print(\"Average G3 by gender:\")\n",
    "print(avg_grades_by_gender)"
   ]
  },
  {
   "cell_type": "code",
   "execution_count": 41,
   "id": "d60642cf-f414-43a5-bec1-9715680d8d6f",
   "metadata": {},
   "outputs": [
    {
     "data": {
      "text/plain": [
       "<matplotlib.collections.PathCollection at 0x1439debcc20>"
      ]
     },
     "execution_count": 41,
     "metadata": {},
     "output_type": "execute_result"
    },
    {
     "data": {
      "image/png": "[encoded data removed]",
      "text/plain": [
       "<Figure size 640x480 with 1 Axes>"
      ]
     },
     "metadata": {},
     "output_type": "display_data"
    }
   ],
   "source": [
    "plt.scatter('studytime','G3')"
   ]
  },
  {
   "cell_type": "code",
   "execution_count": 43,
   "id": "b6474595-f7dd-493e-b8dd-597ff170a3b6",
   "metadata": {},
   "outputs": [
    {
     "data": {
      "text/plain": [
       "<BarContainer object of 2 artists>"
      ]
     },
     "execution_count": 43,
     "metadata": {},
     "output_type": "execute_result"
    },
    {
     "data": {
      "image/png": "[encoded data removed]",
      "text/plain": [
       "<Figure size 640x480 with 1 Axes>"
      ]
     },
     "metadata": {},
     "output_type": "display_data"
    }
   ],
   "source": [
    "x = avg_grades_by_gender.index.tolist()\n",
    "y = avg_grades_by_gender.values.tolist()\n",
    "plt.bar(x,y)"
   ]
  }
 ],
 "metadata": {
  "kernelspec": {
   "display_name": "Python 3 (ipykernel)",
   "language": "python",
   "name": "python3"
  },
  "language_info": {
   "codemirror_mode": {
    "name": "ipython",
    "version": 3
   },
   "file_extension": ".py",
   "mimetype": "text/x-python",
   "name": "python",
   "nbconvert_exporter": "python",
   "pygments_lexer": "ipython3",
   "version": "3.13.5"
  }
 },
 "nbformat": 4,
 "nbformat_minor": 5
}
